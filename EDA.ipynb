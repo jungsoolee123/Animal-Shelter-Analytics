
import pandas as pd 
intakes_df = pd.read_csv('C:\Users\jungs\Animal_Shelter_Analytics\archive/Austin_Animal_Center_Intakes')
outcomes_df = pd.read_csv('C:\Users\jungs\Animal_Shelter_Analytics\archive/Austin_Animal_Center_Outcomes')
Stray_Map_df = pd.read_csv('C:\Users\jungs\Animal_Shelter_Analytics\archive/Austin_Animal_Center_Stray_Map')
